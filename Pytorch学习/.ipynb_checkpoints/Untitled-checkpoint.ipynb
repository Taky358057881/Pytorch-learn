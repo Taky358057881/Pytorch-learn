{
 "cells": [
  {
   "cell_type": "code",
   "execution_count": 1,
   "id": "88c24aea",
   "metadata": {},
   "outputs": [
    {
     "name": "stdout",
     "output_type": "stream",
     "text": [
      "ACSF1 73.0\n",
      "Adiac 80.56265984654732\n",
      "ArrowHead 77.14285714285715\n",
      "Beef 90.0\n",
      "BeetleFly 95.0\n",
      "BirdChicken 65.0\n",
      "Car 88.33333333333333\n",
      "CBF 93.11111111111113\n",
      "CinCECGTorso 87.46376811594203\n",
      "Coffee 100.0\n",
      "Computers 66.8\n",
      "CricketX 74.61538461538461\n",
      "CricketY 72.82051282051282\n",
      "CricketZ 74.61538461538461\n",
      "DiatomSizeReduction 92.15686274509804\n",
      "ECG200 90.0\n",
      "ECGFiveDays 98.83855981416956\n",
      "FaceFour 92.04545454545455\n",
      "FacesUCR 90.6829268292683\n",
      "Fish 91.42857142857143\n",
      "GunPoint 98.0\n",
      "Ham 73.33333333333333\n",
      "Haptics 48.37662337662338\n",
      "Herring 57.8125\n",
      "InlineSkate 32.90909090909091\n",
      "InsectWingbeatSound 65.05050505050505\n",
      "ItalyPowerDemand 97.18172983479107\n",
      "Lightning2 78.68852459016394\n",
      "Lightning7 68.4931506849315\n",
      "Mallat 85.54371002132196\n",
      "Meat 93.33333333333333\n",
      "MoteStrain 87.61980830670927\n",
      "OliveOil 90.0\n",
      "OSULeaf 71.900826446281\n",
      "Phoneme 27.004219409282697\n",
      "Plane 99.04761904761904\n",
      "ShapeletSim 91.11111111111111\n",
      "SonyAIBORobotSurface1 88.35274542429285\n",
      "SonyAIBORobotSurface2 88.2476390346275\n",
      "Symbols 85.52763819095478\n"
     ]
    }
   ],
   "source": [
    "import os\n",
    "import pandas as pd\n",
    "\n",
    "def read_best_model_val_acc(folder_path):\n",
    "    best_model_val_acc_list = []\n",
    "    folder_names = []\n",
    "    for root, dirs, files in os.walk(folder_path):\n",
    "        for dir in dirs:\n",
    "            folder_names.append(dir)\n",
    "        for file in files:\n",
    "            #if file == 'df_best_model.csv':\n",
    "            if file == 'df_metrics.csv':\n",
    "                file_path = os.path.join(root, file)\n",
    "                df = pd.read_csv(file_path)\n",
    "                #best_model_val_acc = df['best_model_val_acc'].values[0]\n",
    "                best_model_val_acc = df['accuracy'].values[0]\n",
    "                best_model_val_acc_list.append(best_model_val_acc)\n",
    "    return best_model_val_acc_list, folder_names\n",
    "\n",
    "def combine_csv_data(folder_path, output_file):\n",
    "    dataframes = []\n",
    "    folder_names = []\n",
    "    for root, dirs, files in os.walk(folder_path):\n",
    "        for dir in dirs:\n",
    "            folder_names.append(dir)\n",
    "        for file in files:\n",
    "            if file.endswith('.csv'):\n",
    "                file_path = os.path.join(root, file)\n",
    "                df = pd.read_csv(file_path)\n",
    "                dataframes.append(df)\n",
    "    combined_df = pd.concat(dataframes, ignore_index=True)\n",
    "    combined_df['Folder_Name'] = folder_names\n",
    "    combined_df.to_csv(output_file, index=False)\n",
    "\n",
    "if __name__ == \"__main__\":\n",
    "    folder_path = 'E:/毕业设计/数据集/UCRArchive_2018/results/nne/encoder-resnet-dnn-/TSC'\n",
    "    #output_file = 'combined_data.csv'\n",
    "\n",
    "    best_model_val_acc_list, folder_names = read_best_model_val_acc(folder_path)\n",
    "    for x in range(len(best_model_val_acc_list)):\n",
    "        print(folder_names[x],best_model_val_acc_list[x] * 100)\n",
    "    #print(\"Best model validation accuracies:\", best_model_val_acc_list)\n",
    "    #print(\"Folder names:\", folder_names)\n",
    "\n",
    "    #combine_csv_data(folder_path, output_file)\n",
    "    #print(\"Combined data saved to\", output_file)\n"
   ]
  },
  {
   "cell_type": "code",
   "execution_count": null,
   "id": "697c36aa",
   "metadata": {},
   "outputs": [],
   "source": [
    "'Lightning2','Lightning7','Mallat','Meat','MoteStrain','OliveOil','OSULeaf','Phoneme','Plane'\n",
    "'ShapeletSim'，'Symbols','ToeSegmentation1','ToeSegmentation2','Trace','TwoLeadECG','Wine','BME','Chinatown','DodgerLoopDay','DodgerLoopGame','DodgerLoopWeekend'"
   ]
  }
 ],
 "metadata": {
  "kernelspec": {
   "display_name": "Python 3 (ipykernel)",
   "language": "python",
   "name": "python3"
  },
  "language_info": {
   "codemirror_mode": {
    "name": "ipython",
    "version": 3
   },
   "file_extension": ".py",
   "mimetype": "text/x-python",
   "name": "python",
   "nbconvert_exporter": "python",
   "pygments_lexer": "ipython3",
   "version": "3.8.18"
  }
 },
 "nbformat": 4,
 "nbformat_minor": 5
}
